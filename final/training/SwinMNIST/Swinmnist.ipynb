{
  "nbformat": 4,
  "nbformat_minor": 0,
  "metadata": {
    "colab": {
      "provenance": [],
      "gpuType": "T4"
    },
    "kernelspec": {
      "name": "python3",
      "display_name": "Python 3"
    },
    "language_info": {
      "name": "python"
    },
    "accelerator": "GPU"
  },
  "cells": [
    {
      "cell_type": "code",
      "execution_count": null,
      "metadata": {
        "colab": {
          "base_uri": "https://localhost:8080/"
        },
        "id": "UAcgBeP12L2u",
        "outputId": "95ee5ca2-c28d-4170-efe7-5be2b2d34130"
      },
      "outputs": [
        {
          "output_type": "stream",
          "name": "stdout",
          "text": [
            "Mounted at /content/drive\n"
          ]
        }
      ],
      "source": [
        "from google.colab import drive\n",
        "drive.mount(\"/content/drive\", force_remount=True)"
      ]
    },
    {
      "cell_type": "code",
      "source": [
        "import zipfile\n",
        "zip_path = \"/content/drive/MyDrive/cifar10_images.zip\"\n",
        "extract_path = \"/content/cifar10_images\"\n",
        "\n",
        "with zipfile.ZipFile(zip_path, 'r') as zip_ref:\n",
        "    zip_ref.extractall(extract_path)"
      ],
      "metadata": {
        "id": "VN79r9ay2pw4"
      },
      "execution_count": null,
      "outputs": []
    },
    {
      "cell_type": "code",
      "source": [
        "from torchvision import transforms\n",
        "from torchvision.datasets import ImageFolder\n",
        "from torch.utils.data import DataLoader,TensorDataset\n",
        "import random\n",
        "import matplotlib.pyplot as plt\n",
        "import torch.nn as nn\n",
        "import torch\n",
        "from tqdm import tqdm\n",
        "import torch.optim as optim\n",
        "from torch.optim.lr_scheduler import CosineAnnealingLR, LambdaLR"
      ],
      "metadata": {
        "id": "rp6zglCN280X"
      },
      "execution_count": null,
      "outputs": []
    },
    {
      "cell_type": "code",
      "source": [
        "import os\n",
        "print(os.listdir(\"/content/drive/MyDrive\"))"
      ],
      "metadata": {
        "colab": {
          "base_uri": "https://localhost:8080/"
        },
        "id": "5ogjEw5F3O1d",
        "outputId": "715478dd-5b02-4ac3-f9c4-d0ef3f9bd23a"
      },
      "execution_count": null,
      "outputs": [
        {
          "output_type": "stream",
          "name": "stdout",
          "text": [
            "['Colab Notebooks', 'Classroom', 'IMG_20220921_201745.jpg', 'IMG_20220921_201739.jpg', 'IMG_20220921_201536.jpg', 'IMG_20220921_201534.jpg', 'IMG_20220921_200557.jpg', 'IMG_20220921_200358.jpg', 'IMG_20220921_200346.jpg', 'IMG_20220921_200344.jpg', 'IMG_20220921_200335.jpg', 'IMG_20220921_200045.jpg', 'IMG_20210331_233030.jpg', 'IMG_20210109_192758 (1).jpg', 'IMG_20210112_200952 (1).JPG', 'IMG_20210112_200814 (1).JPG', 'IMG_20210112_200803 (1).JPG', 'IMG_20210109_111510 (2).jpg', 'IMG_20210109_111459.jpg', 'IMG_20210112_200831 (1).JPG', 'IMG_20210109_111436 (1).jpg', 'IMG_20210109_111426 (1).jpg', 'IMG_20210112_200924 (1).JPG', 'IMG_20210112_200901 (1).JPG', 'IMG_20210109_111408_1 (1).jpg', 'IMG_20210109_111408 (1).jpg', 'IMG_20210112_200938 (1).JPG', 'IMG_20210109_111304 (1).jpg', 'IMG_20210109_111256 (1).jpg', 'IMG_20210108_113115.jpg', 'IMG_20210108_113112.jpg', 'IMG_20210105_103242.jpg', 'IMG_20210105_103219.jpg', 'IMG_20210118_110842.jpg', 'IMG_20210109_192807 (1).jpg', 'IMG_20210112_200846 (1).JPG', 'IMG_20210108_113109.jpg', 'IMG_20210108_113106.jpg', 'IMG_20210109_111510 (1).jpg', 'IMG_20210112_200814.JPG', 'IMG_20210109_111436.jpg', 'IMG_20210109_111408_1.jpg', 'IMG_20210109_192807.jpg', 'IMG_20210112_200831.JPG', 'IMG_20210112_200924.JPG', 'IMG_20210112_200901.JPG', 'IMG_20210109_111408.jpg', 'IMG_20210112_200938.JPG', 'IMG_20210112_200846.JPG', 'IMG_20210112_200803.JPG', 'IMG_20210109_111510.jpg', 'IMG_20210112_200952.JPG', 'IMG_20210109_192758.jpg', 'IMG_20210109_111256.jpg', 'IMG_20210109_111426.jpg', 'IMG_20210109_111304.jpg', 'IMG20230905223339.jpg', 'IMG20231016151615.jpg', 'IMG20231016151706.jpg', 'IMG20231016151801.jpg', 'IMG20231016151841.jpg', 'Screenshot 2023-11-15 160651.png', 'psychology_rajdeep_bakolia_23717 (1).pdf', 'psychology_rajdeep_bakolia_23717.pdf', 'literature_rajdeep_bakolia_23717 (1).pdf', 'literature_rajdeep_bakolia_23717.pdf', 'IMG-20240114-WA0044.jpg', 'Screenshot_2024-02-14-13-26-30-94_439a3fec0400f8974d35eed09a31f914.jpg', 'Screenshot_2023-10-24-14-46-01-43_439a3fec0400f8974d35eed09a31f914.jpg', 'Untitled Jam (1).gjam', 'Untitled Jam (1).pdf', 'WhatsApp Chat with Rajdeep IISc (1).txt', 'WhatsApp Chat with Rajdeep IISc.txt', 'Collegiate Events Fair Play Agreement.pdf', 'n (1).png', 'n.png', 'Screenshot (22) - Snehasish Ghosh.png', 'Screenshot (31) - Abhishek Tambe.png', 'Screenshot_2024-08-13-13-23-56-447_com.android.chrome - Abhishek Dubey.jpg', 'Screenshot 2024-08-13 at 10.49.27\\u202fAM - Aditya Pradhan.png', 'Screenshot_2024-08-11-23-50-11-48_40deb401b9ffe8e1df2f1cc5ba480b12 - Dinesh Reddy.jpg', 'professor.gdoc', 'List of Sponsors For Hackathon.gdoc', 'Untitled Jam.gjam', 'Untitled Jam.pdf', 'photo.jpg', 'Submission Form for Honor Code (File responses)', 'Event Registration (1).gform', 'Final submission form (File responses)', 'Final submission form.gform', '🌟 Join Us for Honour Code: The Ultimate Hackathon at IISc! 🚀 .gform', 'Event Registration.gform', 'Submission Form for Honor Code.gform', 'MNIST.zip', 'simple_swin_epoch1.pth', 'simple_swin_epoch2.pth', 'simple_swin_epoch3.pth', 'simple_swin_epoch4.pth', 'simple_swin_epoch5.pth', 'simple_swin_epoch6.pth', 'simple_swin_epoch7.pth', 'simple_swin_epoch8.pth', 'simple_swin_epoch9.pth', 'simple_swin_epoch10.pth', 'simple_swin_epoch11.pth', 'simple_swin_epoch12.pth', 'simple_swin_epoch13.pth', 'simple_swin_epoch14.pth', 'simple_swin_epoch15.pth', 'simple_swin_epoch16.pth', 'simple_swin_epoch17.pth', 'simple_swin_epoch18.pth', 'simple_swin_epoch19.pth', 'simple_swin_epoch20.pth', 'simple_swin_epoch21.pth', 'simple_swin_epoch22.pth', 'simple_swin_epoch23.pth', 'simple_swin_epoch24.pth', 'simple_swin_epoch25.pth', 'simple_swin_epoch26.pth', 'simple_swin_epoch27.pth', 'simple_swin_epoch28.pth', 'simple_swin_epoch29.pth', 'simple_swin_epoch30.pth', 'metric.txt', 'confusion_matrix_metric.png', 'metric1.txt', 'confusion_matrix_metric1.png', 'metric2.txt', 'confusion_matrix_metric2.png', 'epoch_vs_accuracy.png', 'cifar10_images.zip', 'cifar']\n"
          ]
        }
      ]
    },
    {
      "cell_type": "code",
      "source": [
        "transform = transforms.Compose([\n",
        "    transforms.Resize(96),  # Resize images to at least 96x96\n",
        "    transforms.RandomHorizontalFlip(),  # Randomly flip images horizontally\n",
        "    transforms.RandomCrop(96, padding=4),  # Crop and resize the image to 96x96 (after resizing)\n",
        "    transforms.RandomRotation(10),  # Randomly rotate images by up to 10 degrees\n",
        "    transforms.ColorJitter(brightness=0.2, contrast=0.2, saturation=0.2, hue=0.1),  # Randomly change brightness, contrast, saturation, and hue\n",
        "    transforms.ToTensor(),  # Convert image to Tensor\n",
        "    transforms.Normalize((0.5, 0.5, 0.5), (0.5, 0.5, 0.5))  # Normalize the image\n",
        "])\n",
        "\n",
        "test_transform = transforms.Compose([\n",
        "    transforms.Resize(96),  # Resize test images to 96x96\n",
        "    transforms.ToTensor(),  # Convert image to Tensor\n",
        "    transforms.Normalize((0.5, 0.5, 0.5), (0.5, 0.5, 0.5))  # Normalize test images\n",
        "])\n",
        "\n",
        "train_dataset = ImageFolder(root=\"/content/cifar10_images/cifar10_images/train\", transform=transform)\n",
        "test_dataset = ImageFolder(root=\"/content/cifar10_images/cifar10_images/test\", transform=test_transform)"
      ],
      "metadata": {
        "id": "PCMMoYzZ3Tml"
      },
      "execution_count": null,
      "outputs": []
    },
    {
      "cell_type": "code",
      "source": [
        "train_loader = DataLoader(train_dataset, batch_size=64, shuffle=True, num_workers=2)\n",
        "test_loader = DataLoader(test_dataset, batch_size=64, shuffle=False, num_workers=2)"
      ],
      "metadata": {
        "id": "V7XPb-sc3dTl"
      },
      "execution_count": null,
      "outputs": []
    },
    {
      "cell_type": "code",
      "source": [
        "plt.figure(figsize=(20, 20))\n",
        "for i in range(10):\n",
        "    image, label = test_dataset[random.randint(0, len(test_dataset) - 1)]\n",
        "    plt.subplot(5, 5, i + 1)\n",
        "    # Since MNIST images are single-channel, we remove the channel dimension for display\n",
        "    plt.imshow(image.squeeze(0), cmap='gray')  # Use cmap='gray' for grayscale images\n",
        "    plt.title(train_dataset.classes[label])\n",
        "    plt.axis(\"off\")"
      ],
      "metadata": {
        "colab": {
          "base_uri": "https://localhost:8080/",
          "height": 561
        },
        "id": "YSdcIKrZ4i_z",
        "outputId": "5d043121-198e-4bf2-e517-84541809f89d"
      },
      "execution_count": null,
      "outputs": [
        {
          "output_type": "display_data",
          "data": {
            "text/plain": [
              "<Figure size 2000x2000 with 10 Axes>"
            ],
            "image/png": "[encoded data removed]"
          },
          "metadata": {}
        }
      ]
    },
    {
      "cell_type": "code",
      "source": [
        "class Patch_Linear_Embedding(nn.Module):\n",
        "    def __init__(self, patch_size=4, embedding_dim=96):\n",
        "        super().__init__()\n",
        "        self.patch_size = patch_size\n",
        "        self.embedding_dim = embedding_dim\n",
        "\n",
        "        self.proj = nn.Linear(patch_size * patch_size * 3, embedding_dim)\n",
        "\n",
        "\n",
        "    def forward(self, x):\n",
        "        x = x.unfold(2, self.patch_size, self.patch_size).unfold(3, self.patch_size, self.patch_size)\n",
        "        x = x.permute(0, 2, 3, 1, 4, 5)\n",
        "        x = x.reshape(x.shape[0] ,x.shape[1],x.shape[2] , self.patch_size * self.patch_size * 3)\n",
        "        x = self.proj(x)\n",
        "        return x\n"
      ],
      "metadata": {
        "id": "VNip9u_v4lal"
      },
      "execution_count": null,
      "outputs": []
    },
    {
      "cell_type": "code",
      "source": [
        "class W_MSA(nn.Module):\n",
        "    def __init__(self, dim, window_size=6, num_heads=8):\n",
        "        super().__init__()\n",
        "        self.dim = dim\n",
        "        self.window_size = window_size\n",
        "        self.num_heads = num_heads\n",
        "        self.head_dim = dim // num_heads\n",
        "        self.scale = self.head_dim ** -0.5\n",
        "\n",
        "        self.qkv = nn.Linear(dim, dim * 3, bias=True)\n",
        "        self.proj = nn.Linear(dim, dim)\n",
        "    def forward(self, x):\n",
        "        \"\"\"\n",
        "        x: (B, H, W, D)\n",
        "        \"\"\"\n",
        "        B, H, W, D = x.shape\n",
        "        ws = self.window_size\n",
        "        x = x.reshape(B, H // ws, ws, W // ws, ws, D)\n",
        "        x = x.permute(0, 1, 3, 2, 4, 5)\n",
        "        x = x.reshape(-1, ws * ws, D)\n",
        "\n",
        "\n",
        "        M, V, C = x.shape  # [total, ws * ws, dim]\n",
        "        qkv = self.qkv(x)  # [total, ws * ws, 3 * dim]\n",
        "        qkv = qkv.reshape(M, V, 3, self.num_heads, self.head_dim)\n",
        "        qkv = qkv.permute(2, 0, 3, 1, 4)  # [3, total, heads, ws * ws, head_dim]\n",
        "\n",
        "        q, k, v = qkv[0], qkv[1], qkv[2]  # each: [total, heads, ws * ws, head_dim]\n",
        "\n",
        "        # Attention scores\n",
        "        scores = torch.matmul(q, k.transpose(-2, -1)) * self.scale  # [total, heads, ws * ws, ws * ws]\n",
        "        attn = torch.softmax(scores, dim=-1)\n",
        "\n",
        "        # Weighted sum of values\n",
        "        out = torch.matmul(attn, v)  # [total, heads, ws * ws, head_dim]\n",
        "        out = out.permute(0, 2, 1, 3).reshape(M, V, C)  # [total, ws * ws, dim]\n",
        "\n",
        "        # Reverse the window partitioning\n",
        "        out = out.reshape(B, H // ws, W // ws, ws, ws, D)  # [B, H//ws, W//ws, ws, ws, D]\n",
        "        out = out.permute(0, 1, 3, 2, 4, 5)  # [B, H//ws, W//ws, D, ws, ws]\n",
        "        out = out.reshape(B, H, W, D)  # [B, H, W, D] - Reconstructed\n",
        "        return out\n"
      ],
      "metadata": {
        "id": "sQ3Vz2SO4oHs"
      },
      "execution_count": null,
      "outputs": []
    },
    {
      "cell_type": "code",
      "source": [
        "def mask(B, H, W,ss,ws):\n",
        "    mask = torch.zeros(B, H, W, dtype=torch.int)\n",
        "    mask[:, :ss, :ss] = 0\n",
        "    mask[:, :ss, ss:] = 1\n",
        "    mask[:, ss:, :ss] = 2\n",
        "    mask[:, ss:, ss:] = 3\n",
        "    shift_size = ss\n",
        "    shifted_mask = torch.roll(mask, shifts=(-shift_size, -shift_size), dims=(1, 2))\n",
        "    shifted_mask = shifted_mask.reshape(B, H // ws, ws, W // ws, ws)\n",
        "    shifted_mask = shifted_mask.permute(0, 1, 3, 2, 4)\n",
        "    shifted_mask = shifted_mask.reshape(-1, ws * ws)\n",
        "    N, L = shifted_mask.shape\n",
        "    eq = shifted_mask.unsqueeze(2) == shifted_mask.unsqueeze(1)\n",
        "    attn_mask = torch.where(eq, torch.tensor(0.0), torch.tensor(float('-inf')))\n",
        "    return attn_mask"
      ],
      "metadata": {
        "id": "bwjbUeoz4q6j"
      },
      "execution_count": null,
      "outputs": []
    },
    {
      "cell_type": "code",
      "source": [
        "class SW_MSA(nn.Module):\n",
        "    def __init__(self, dim, window_size=6, shift_size=3, num_heads=8):\n",
        "        super().__init__()\n",
        "        self.dim = dim\n",
        "        self.window_size = window_size\n",
        "        self.shift_size = shift_size\n",
        "        self.num_heads = num_heads\n",
        "        self.head_dim = dim // num_heads\n",
        "        self.scale = self.head_dim ** -0.5\n",
        "\n",
        "        self.qkv = nn.Linear(dim, dim * 3, bias=True)\n",
        "        self.proj = nn.Linear(dim, dim)\n",
        "\n",
        "    def forward(self, x):\n",
        "        \"\"\"\n",
        "        x: (B, H, W, D)\n",
        "        \"\"\"\n",
        "        B, H, W, D = x.shape\n",
        "        ws = self.window_size\n",
        "        ss = self.shift_size\n",
        "        x = torch.roll(x, shifts=(-ss, -ss), dims=(1, 2))\n",
        "\n",
        "\n",
        "        attn_mask = mask(B, H, W, ss, ws)\n",
        "        attn_mask = mask(B, H, W, ss, ws).to(x.device)\n",
        "\n",
        "\n",
        "\n",
        "        x = x.reshape(B, H // ws, ws, W // ws, ws, D)\n",
        "        x = x.permute(0, 1, 3, 2, 4, 5)\n",
        "        x = x.reshape(-1, ws * ws, D)\n",
        "\n",
        "        M, V, C = x.shape  # [total, ws * ws, dim]\n",
        "        qkv = self.qkv(x)  # [total, ws * ws, 3 * dim]\n",
        "        qkv = qkv.reshape(M, V, 3, self.num_heads, self.head_dim)\n",
        "        qkv = qkv.permute(2, 0, 3, 1, 4)  # [3, total, heads, ws * ws, head_dim]\n",
        "\n",
        "        q, k, v = qkv[0], qkv[1], qkv[2]  # each: [total, heads, ws * ws, head_dim]\n",
        "\n",
        "        # Attention scores\n",
        "        scores = torch.matmul(q, k.transpose(-2, -1)) * self.scale  # [total, heads, ws * ws, ws * ws]\n",
        "        scores = scores + attn_mask.unsqueeze(1)\n",
        "        attn = torch.softmax(scores, dim=-1)\n",
        "        # Weighted sum of values\n",
        "        out = torch.matmul(attn, v)# [total, heads, ws * ws, head_dim]\n",
        "        out = out.permute(0, 2, 1, 3).reshape(M, V, C)\n",
        "\n",
        "        # Reverse the window partitioning\n",
        "        out = out.reshape(B, H // ws, W // ws, ws, ws, D)\n",
        "        out = out.permute(0, 1, 3, 2, 4, 5)\n",
        "        out = out.reshape(B, H, W, D)\n",
        "        out = torch.roll(out, shifts=(ss, ss), dims=(1, 2))\n",
        "        out = self.proj(out)\n",
        "        return out"
      ],
      "metadata": {
        "id": "VeLeQiz74s6d"
      },
      "execution_count": null,
      "outputs": []
    },
    {
      "cell_type": "code",
      "source": [
        "class SwinTransformerBlock(nn.Module):\n",
        "    def __init__(self, dim, num_heads = 8, window_size=6, shift_size=3):\n",
        "        super().__init__()\n",
        "        self.window_size = window_size\n",
        "        self.shift_size = shift_size\n",
        "        self.norm1 = nn.LayerNorm(dim)\n",
        "        self.attn1 = W_MSA(dim, num_heads=num_heads, window_size=window_size)\n",
        "\n",
        "        self.norm2 = nn.LayerNorm(dim)\n",
        "        self.norm3 = nn.LayerNorm(dim)\n",
        "        self.norm4 = nn.LayerNorm(dim)\n",
        "        self.mlp1 = nn.Sequential(\n",
        "            nn.Linear(dim, dim * 4),\n",
        "            nn.GELU(),\n",
        "            nn.Linear(dim * 4, dim)\n",
        "        )\n",
        "        self.attn2 = SW_MSA(dim, num_heads=num_heads, window_size=window_size, shift_size=shift_size)\n",
        "\n",
        "\n",
        "        self.mlp2 = nn.Sequential(\n",
        "            nn.Linear(dim, dim * 4),\n",
        "            nn.GELU(),\n",
        "            nn.Linear(dim * 4, dim)\n",
        "        )\n",
        "\n",
        "\n",
        "\n",
        "    def forward(self, x):\n",
        "        B, H, W, C = x.shape\n",
        "\n",
        "        x = x + self.attn1(self.norm1(x))\n",
        "        x = x + self.mlp1(self.norm2(x))\n",
        "        x = x + self.attn2(self.norm3(x))\n",
        "        x = x + self.mlp2(self.norm4(x))\n",
        "        return x"
      ],
      "metadata": {
        "id": "7m3vXULT44Eb"
      },
      "execution_count": null,
      "outputs": []
    },
    {
      "cell_type": "code",
      "source": [
        "class PatchMerging(nn.Module):\n",
        "    def __init__(self, input_dim):\n",
        "        super().__init__()\n",
        "        self.reduction = nn.Linear(4 * input_dim, 2 * input_dim, bias=False)\n",
        "        self.norm = nn.LayerNorm(4 * input_dim)\n",
        "\n",
        "    def forward(self, x):\n",
        "        B, H, W, C = x.shape\n",
        "\n",
        "        # Step 1: reshape 2x2 patches into one\n",
        "        x0 = x[:, 0::2, 0::2, :]  # top-left\n",
        "        x1 = x[:, 0::2, 1::2, :]  # top-right\n",
        "        x2 = x[:, 1::2, 0::2, :]  # bottom-left\n",
        "        x3 = x[:, 1::2, 1::2, :]  # bottom-right\n",
        "        # Step 2: concatenate along the channel dimension\n",
        "        x_merged = torch.cat([x0, x1, x2, x3], dim=-1)  # Shape: [B, H/2, W/2, 4C]\n",
        "        # Step 3: normalization and linear projection to reduce dim\n",
        "        x_merged = self.norm(x_merged)\n",
        "        x_merged = self.reduction(x_merged)  # Shape: [B, H/2, W/2, 2C]\n",
        "        return x_merged\n",
        "\n"
      ],
      "metadata": {
        "id": "rvAdC1d344_4"
      },
      "execution_count": null,
      "outputs": []
    },
    {
      "cell_type": "code",
      "source": [
        "class ClassificationHead(nn.Module):\n",
        "    def __init__(self, embed_dim=384, num_classes=10):\n",
        "        super().__init__()\n",
        "        self.avg_pool = nn.AdaptiveAvgPool2d(1)  # pools HxW to 1x1\n",
        "        self.fc = nn.Linear(embed_dim, num_classes)\n",
        "\n",
        "    def forward(self, x):\n",
        "        # x shape: [B, H, W, C] → convert to [B, C, H, W]\n",
        "        x = x.permute(0, 3, 1, 2)\n",
        "        x = self.avg_pool(x)           # [B, C, 1, 1]\n",
        "        x = x.reshape(x.size(0), -1)      # [B, Cx1x1]\n",
        "        return self.fc(x)              # [B, num_classes]\n"
      ],
      "metadata": {
        "id": "uDSERrVs47GM"
      },
      "execution_count": null,
      "outputs": []
    },
    {
      "cell_type": "code",
      "source": [
        "class SimpleSwinTransformer(nn.Module):\n",
        "    def __init__(self, num_classes=10):\n",
        "        super().__init__()\n",
        "        self.embedding = Patch_Linear_Embedding(patch_size=4, embedding_dim=96)\n",
        "        self.stb1 = SwinTransformerBlock(dim=96, window_size=6, shift_size=3, num_heads=8)\n",
        "        self.stb2 = SwinTransformerBlock(dim=96, window_size=6, shift_size=3, num_heads=8)\n",
        "        self.stb3 = SwinTransformerBlock(dim=192, window_size=6, shift_size=3, num_heads=8)\n",
        "        self.stb4 = SwinTransformerBlock(dim=192, window_size=6, shift_size=3, num_heads=8)\n",
        "        self.stb5 = W_MSA(dim = 384, window_size=6, num_heads=8)\n",
        "        self.stb6 = W_MSA(dim = 384, window_size=6, num_heads=8)\n",
        "        self.patch_merging1 = PatchMerging(input_dim=96)\n",
        "        self.patch_merging2 = PatchMerging(input_dim=192)\n",
        "        self.classification_head = ClassificationHead(embed_dim=384, num_classes=num_classes)\n",
        "\n",
        "    def forward(self, x):\n",
        "        x = self.embedding(x)\n",
        "        x = self.stb1(x)\n",
        "        x = self.stb2(x)\n",
        "        x = self.patch_merging1(x)\n",
        "        x = self.stb3(x)\n",
        "        x = self.stb4(x)\n",
        "        x = self.patch_merging2(x)\n",
        "        x = self.stb5(x)\n",
        "        x = self.stb6(x)\n",
        "        x = self.classification_head(x)\n",
        "        return x\n",
        "\n"
      ],
      "metadata": {
        "id": "u3DO_JY049vh"
      },
      "execution_count": null,
      "outputs": []
    },
    {
      "cell_type": "code",
      "source": [
        "# Warm-up function to increase the learning rate gradually\n",
        "def warmup_lr(epoch, warmup_epochs, initial_lr=1e-3):\n",
        "    if epoch < warmup_epochs:\n",
        "        return (epoch + 1) / warmup_epochs * initial_lr  # Linear warmup\n",
        "    return initial_lr\n",
        "\n",
        "# Learning rate scheduler for warm-up and cosine annealing\n",
        "def get_scheduler(epoch, warmup_scheduler, cosine_scheduler, warmup_epochs):\n",
        "    if epoch < warmup_epochs:\n",
        "        warmup_scheduler.step(epoch)\n",
        "    else:\n",
        "        cosine_scheduler.step()\n"
      ],
      "metadata": {
        "id": "WX9QrFsw5DY0"
      },
      "execution_count": null,
      "outputs": []
    },
    {
      "cell_type": "code",
      "source": [
        "device = torch.device(\"cuda\" if torch.cuda.is_available() else \"cpu\")\n",
        "model = SimpleSwinTransformer().to(device)\n",
        "criterion = nn.CrossEntropyLoss()\n",
        "optimizer = optim.AdamW(model.parameters(), lr=1e-3)\n",
        "\n",
        "# Number of warm-up epochs and total training epochs\n",
        "warmup_epochs = 5\n",
        "total_epochs = 50\n",
        "T_max = total_epochs - warmup_epochs  # Total number of epochs for Cosine Annealing after warmup\n",
        "\n",
        "# Warm-up scheduler\n",
        "warmup_scheduler = LambdaLR(optimizer, lr_lambda=lambda epoch: warmup_lr(epoch, warmup_epochs))\n",
        "\n",
        "# Cosine annealing scheduler\n",
        "cosine_scheduler = CosineAnnealingLR(optimizer, T_max=T_max, eta_min=1e-6)\n"
      ],
      "metadata": {
        "id": "SwrxpkwB5Fsk"
      },
      "execution_count": null,
      "outputs": []
    },
    {
      "cell_type": "code",
      "source": [
        "# Training function\n",
        "def train(model, loader, optimizer, criterion, epoch, warmup_scheduler, cosine_scheduler, warmup_epochs):\n",
        "    model.train()\n",
        "    total_loss = 0\n",
        "    device = torch.device(\"cuda\" if torch.cuda.is_available() else \"cpu\")\n",
        "\n",
        "    for imgs, labels in tqdm(loader, desc=f\"Epoch {epoch}\"):\n",
        "        imgs, labels = imgs.to(device), labels.to(device)\n",
        "\n",
        "        outputs = model(imgs)     # [B, 10]\n",
        "        loss = criterion(outputs, labels)\n",
        "\n",
        "        optimizer.zero_grad()\n",
        "        loss.backward()\n",
        "        optimizer.step()\n",
        "\n",
        "        total_loss += loss.item()\n",
        "\n",
        "    avg_loss = total_loss / len(loader)\n",
        "    print(f\"Train Loss: {avg_loss:.4f}\")\n",
        "\n",
        "    # Update learning rate after each epoch\n",
        "    get_scheduler(epoch, warmup_scheduler, cosine_scheduler, warmup_epochs)"
      ],
      "metadata": {
        "id": "w3gsH3185J7U"
      },
      "execution_count": null,
      "outputs": []
    },
    {
      "cell_type": "code",
      "source": [
        "def evaluate(model, loader):\n",
        "    model.eval()\n",
        "    correct, total = 0, 0\n",
        "    device = torch.device(\"cuda\" if torch.cuda.is_available() else \"cpu\")\n",
        "\n",
        "    with torch.no_grad():\n",
        "        for imgs, labels in loader:\n",
        "            imgs, labels = imgs.to(device), labels.to(device)\n",
        "\n",
        "            outputs = model(imgs)\n",
        "            _, preds = torch.max(outputs, dim=1)\n",
        "\n",
        "            correct += (preds == labels).sum().item()\n",
        "            total += labels.size(0)\n",
        "\n",
        "    acc = 100 * correct / total\n",
        "    print(f\"Test Accuracy: {acc:.2f}%\")"
      ],
      "metadata": {
        "id": "l1C4gWgT5POl"
      },
      "execution_count": null,
      "outputs": []
    },
    {
      "cell_type": "code",
      "source": [
        "#  Training loop\n",
        "for epoch in range(1, total_epochs + 1):\n",
        "    # Train for one epoch\n",
        "    train(model, train_loader, optimizer, criterion, epoch, warmup_scheduler, cosine_scheduler, warmup_epochs)\n",
        "\n",
        "    # Evaluate the model on the test set\n",
        "    evaluate(model, test_loader)\n",
        "\n",
        "    # Save model after each epoch (optional)\n",
        "    model_save_path = f\"/content/drive/MyDrive/simple_swin_epoch{epoch}.pth\"\n",
        "    torch.save(model.state_dict(), model_save_path)\n",
        "    print(f\"Model saved to {model_save_path}\")"
      ],
      "metadata": {
        "colab": {
          "base_uri": "https://localhost:8080/",
          "height": 1000
        },
        "id": "zesJtUmR5QIh",
        "outputId": "878167bd-6666-4ea5-da21-631ebd8660b0"
      },
      "execution_count": null,
      "outputs": [
        {
          "output_type": "stream",
          "name": "stderr",
          "text": [
            "Epoch 1: 100%|██████████| 938/938 [02:37<00:00,  5.94it/s]"
          ]
        },
        {
          "output_type": "stream",
          "name": "stdout",
          "text": [
            "Train Loss: 2.2974\n"
          ]
        },
        {
          "output_type": "stream",
          "name": "stderr",
          "text": [
            "\n",
            "/usr/local/lib/python3.11/dist-packages/torch/optim/lr_scheduler.py:243: UserWarning: The epoch parameter in `scheduler.step()` was not necessary and is being deprecated where possible. Please use `scheduler.step()` to step the scheduler. During the deprecation, if epoch is different from None, the closed form is used instead of the new chainable form, where available. Please open an issue if you are unable to replicate your use case: https://github.com/pytorch/pytorch/issues/new/choose.\n",
            "  warnings.warn(EPOCH_DEPRECATION_WARNING, UserWarning)\n"
          ]
        },
        {
          "output_type": "stream",
          "name": "stdout",
          "text": [
            "Test Accuracy: 13.08%\n",
            "Model saved to /content/drive/MyDrive/simple_swin_epoch1.pth\n"
          ]
        },
        {
          "output_type": "stream",
          "name": "stderr",
          "text": [
            "Epoch 2: 100%|██████████| 938/938 [02:47<00:00,  5.59it/s]"
          ]
        },
        {
          "output_type": "stream",
          "name": "stdout",
          "text": [
            "Train Loss: 2.2683\n"
          ]
        },
        {
          "output_type": "stream",
          "name": "stderr",
          "text": [
            "\n"
          ]
        },
        {
          "output_type": "stream",
          "name": "stdout",
          "text": [
            "Test Accuracy: 20.75%\n",
            "Model saved to /content/drive/MyDrive/simple_swin_epoch2.pth\n"
          ]
        },
        {
          "output_type": "stream",
          "name": "stderr",
          "text": [
            "Epoch 3: 100%|██████████| 938/938 [02:48<00:00,  5.56it/s]"
          ]
        },
        {
          "output_type": "stream",
          "name": "stdout",
          "text": [
            "Train Loss: 2.1059\n"
          ]
        },
        {
          "output_type": "stream",
          "name": "stderr",
          "text": [
            "\n"
          ]
        },
        {
          "output_type": "stream",
          "name": "stdout",
          "text": [
            "Test Accuracy: 28.66%\n",
            "Model saved to /content/drive/MyDrive/simple_swin_epoch3.pth\n"
          ]
        },
        {
          "output_type": "stream",
          "name": "stderr",
          "text": [
            "Epoch 4: 100%|██████████| 938/938 [02:48<00:00,  5.57it/s]"
          ]
        },
        {
          "output_type": "stream",
          "name": "stdout",
          "text": [
            "Train Loss: 1.9065\n"
          ]
        },
        {
          "output_type": "stream",
          "name": "stderr",
          "text": [
            "\n"
          ]
        },
        {
          "output_type": "stream",
          "name": "stdout",
          "text": [
            "Test Accuracy: 35.37%\n",
            "Model saved to /content/drive/MyDrive/simple_swin_epoch4.pth\n"
          ]
        },
        {
          "output_type": "stream",
          "name": "stderr",
          "text": [
            "Epoch 5: 100%|██████████| 938/938 [02:48<00:00,  5.57it/s]"
          ]
        },
        {
          "output_type": "stream",
          "name": "stdout",
          "text": [
            "Train Loss: 1.7673\n"
          ]
        },
        {
          "output_type": "stream",
          "name": "stderr",
          "text": [
            "\n"
          ]
        },
        {
          "output_type": "stream",
          "name": "stdout",
          "text": [
            "Test Accuracy: 42.49%\n",
            "Model saved to /content/drive/MyDrive/simple_swin_epoch5.pth\n"
          ]
        },
        {
          "output_type": "stream",
          "name": "stderr",
          "text": [
            "Epoch 6: 100%|██████████| 938/938 [02:48<00:00,  5.58it/s]"
          ]
        },
        {
          "output_type": "stream",
          "name": "stdout",
          "text": [
            "Train Loss: 1.6567\n"
          ]
        },
        {
          "output_type": "stream",
          "name": "stderr",
          "text": [
            "\n"
          ]
        },
        {
          "output_type": "stream",
          "name": "stdout",
          "text": [
            "Test Accuracy: 48.32%\n",
            "Model saved to /content/drive/MyDrive/simple_swin_epoch6.pth\n"
          ]
        },
        {
          "output_type": "stream",
          "name": "stderr",
          "text": [
            "Epoch 7: 100%|██████████| 938/938 [02:48<00:00,  5.56it/s]"
          ]
        },
        {
          "output_type": "stream",
          "name": "stdout",
          "text": [
            "Train Loss: 1.5452\n"
          ]
        },
        {
          "output_type": "stream",
          "name": "stderr",
          "text": [
            "\n"
          ]
        },
        {
          "output_type": "stream",
          "name": "stdout",
          "text": [
            "Test Accuracy: 56.64%\n",
            "Model saved to /content/drive/MyDrive/simple_swin_epoch7.pth\n"
          ]
        },
        {
          "output_type": "stream",
          "name": "stderr",
          "text": [
            "Epoch 8: 100%|██████████| 938/938 [02:48<00:00,  5.57it/s]"
          ]
        },
        {
          "output_type": "stream",
          "name": "stdout",
          "text": [
            "Train Loss: 1.3841\n"
          ]
        },
        {
          "output_type": "stream",
          "name": "stderr",
          "text": [
            "\n"
          ]
        },
        {
          "output_type": "stream",
          "name": "stdout",
          "text": [
            "Test Accuracy: 65.96%\n",
            "Model saved to /content/drive/MyDrive/simple_swin_epoch8.pth\n"
          ]
        },
        {
          "output_type": "stream",
          "name": "stderr",
          "text": [
            "Epoch 9: 100%|██████████| 938/938 [02:47<00:00,  5.59it/s]"
          ]
        },
        {
          "output_type": "stream",
          "name": "stdout",
          "text": [
            "Train Loss: 1.1881\n"
          ]
        },
        {
          "output_type": "stream",
          "name": "stderr",
          "text": [
            "\n"
          ]
        },
        {
          "output_type": "stream",
          "name": "stdout",
          "text": [
            "Test Accuracy: 70.40%\n",
            "Model saved to /content/drive/MyDrive/simple_swin_epoch9.pth\n"
          ]
        },
        {
          "output_type": "stream",
          "name": "stderr",
          "text": [
            "Epoch 10: 100%|██████████| 938/938 [02:47<00:00,  5.60it/s]"
          ]
        },
        {
          "output_type": "stream",
          "name": "stdout",
          "text": [
            "Train Loss: 1.0179\n"
          ]
        },
        {
          "output_type": "stream",
          "name": "stderr",
          "text": [
            "\n"
          ]
        },
        {
          "output_type": "stream",
          "name": "stdout",
          "text": [
            "Test Accuracy: 74.11%\n",
            "Model saved to /content/drive/MyDrive/simple_swin_epoch10.pth\n"
          ]
        },
        {
          "output_type": "stream",
          "name": "stderr",
          "text": [
            "Epoch 11: 100%|██████████| 938/938 [02:47<00:00,  5.59it/s]"
          ]
        },
        {
          "output_type": "stream",
          "name": "stdout",
          "text": [
            "Train Loss: 0.8961\n"
          ]
        },
        {
          "output_type": "stream",
          "name": "stderr",
          "text": [
            "\n"
          ]
        },
        {
          "output_type": "stream",
          "name": "stdout",
          "text": [
            "Test Accuracy: 76.07%\n",
            "Model saved to /content/drive/MyDrive/simple_swin_epoch11.pth\n"
          ]
        },
        {
          "output_type": "stream",
          "name": "stderr",
          "text": [
            "Epoch 12: 100%|██████████| 938/938 [02:47<00:00,  5.59it/s]"
          ]
        },
        {
          "output_type": "stream",
          "name": "stdout",
          "text": [
            "Train Loss: 0.8135\n"
          ]
        },
        {
          "output_type": "stream",
          "name": "stderr",
          "text": [
            "\n"
          ]
        },
        {
          "output_type": "stream",
          "name": "stdout",
          "text": [
            "Test Accuracy: 77.83%\n",
            "Model saved to /content/drive/MyDrive/simple_swin_epoch12.pth\n"
          ]
        },
        {
          "output_type": "stream",
          "name": "stderr",
          "text": [
            "Epoch 13: 100%|██████████| 938/938 [02:47<00:00,  5.59it/s]"
          ]
        },
        {
          "output_type": "stream",
          "name": "stdout",
          "text": [
            "Train Loss: 0.7493\n"
          ]
        },
        {
          "output_type": "stream",
          "name": "stderr",
          "text": [
            "\n"
          ]
        },
        {
          "output_type": "stream",
          "name": "stdout",
          "text": [
            "Test Accuracy: 80.74%\n",
            "Model saved to /content/drive/MyDrive/simple_swin_epoch13.pth\n"
          ]
        },
        {
          "output_type": "stream",
          "name": "stderr",
          "text": [
            "Epoch 14: 100%|██████████| 938/938 [02:47<00:00,  5.60it/s]"
          ]
        },
        {
          "output_type": "stream",
          "name": "stdout",
          "text": [
            "Train Loss: 0.7012\n"
          ]
        },
        {
          "output_type": "stream",
          "name": "stderr",
          "text": [
            "\n"
          ]
        },
        {
          "output_type": "stream",
          "name": "stdout",
          "text": [
            "Test Accuracy: 81.59%\n",
            "Model saved to /content/drive/MyDrive/simple_swin_epoch14.pth\n"
          ]
        },
        {
          "output_type": "stream",
          "name": "stderr",
          "text": [
            "Epoch 15: 100%|██████████| 938/938 [02:49<00:00,  5.55it/s]"
          ]
        },
        {
          "output_type": "stream",
          "name": "stdout",
          "text": [
            "Train Loss: 0.6545\n"
          ]
        },
        {
          "output_type": "stream",
          "name": "stderr",
          "text": [
            "\n"
          ]
        },
        {
          "output_type": "stream",
          "name": "stdout",
          "text": [
            "Test Accuracy: 82.66%\n",
            "Model saved to /content/drive/MyDrive/simple_swin_epoch15.pth\n"
          ]
        },
        {
          "output_type": "stream",
          "name": "stderr",
          "text": [
            "Epoch 16: 100%|██████████| 938/938 [02:48<00:00,  5.58it/s]"
          ]
        },
        {
          "output_type": "stream",
          "name": "stdout",
          "text": [
            "Train Loss: 0.6200\n"
          ]
        },
        {
          "output_type": "stream",
          "name": "stderr",
          "text": [
            "\n"
          ]
        },
        {
          "output_type": "stream",
          "name": "stdout",
          "text": [
            "Test Accuracy: 83.54%\n",
            "Model saved to /content/drive/MyDrive/simple_swin_epoch16.pth\n"
          ]
        },
        {
          "output_type": "stream",
          "name": "stderr",
          "text": [
            "Epoch 17: 100%|██████████| 938/938 [02:48<00:00,  5.57it/s]"
          ]
        },
        {
          "output_type": "stream",
          "name": "stdout",
          "text": [
            "Train Loss: 0.5864\n"
          ]
        },
        {
          "output_type": "stream",
          "name": "stderr",
          "text": [
            "\n"
          ]
        },
        {
          "output_type": "stream",
          "name": "stdout",
          "text": [
            "Test Accuracy: 84.72%\n",
            "Model saved to /content/drive/MyDrive/simple_swin_epoch17.pth\n"
          ]
        },
        {
          "output_type": "stream",
          "name": "stderr",
          "text": [
            "Epoch 18: 100%|██████████| 938/938 [02:47<00:00,  5.59it/s]"
          ]
        },
        {
          "output_type": "stream",
          "name": "stdout",
          "text": [
            "Train Loss: 0.5627\n"
          ]
        },
        {
          "output_type": "stream",
          "name": "stderr",
          "text": [
            "\n"
          ]
        },
        {
          "output_type": "stream",
          "name": "stdout",
          "text": [
            "Test Accuracy: 86.05%\n",
            "Model saved to /content/drive/MyDrive/simple_swin_epoch18.pth\n"
          ]
        },
        {
          "output_type": "stream",
          "name": "stderr",
          "text": [
            "Epoch 19: 100%|██████████| 938/938 [02:47<00:00,  5.60it/s]"
          ]
        },
        {
          "output_type": "stream",
          "name": "stdout",
          "text": [
            "Train Loss: 0.5340\n"
          ]
        },
        {
          "output_type": "stream",
          "name": "stderr",
          "text": [
            "\n"
          ]
        },
        {
          "output_type": "stream",
          "name": "stdout",
          "text": [
            "Test Accuracy: 86.66%\n",
            "Model saved to /content/drive/MyDrive/simple_swin_epoch19.pth\n"
          ]
        },
        {
          "output_type": "stream",
          "name": "stderr",
          "text": [
            "Epoch 20: 100%|██████████| 938/938 [02:47<00:00,  5.59it/s]"
          ]
        },
        {
          "output_type": "stream",
          "name": "stdout",
          "text": [
            "Train Loss: 0.5173\n"
          ]
        },
        {
          "output_type": "stream",
          "name": "stderr",
          "text": [
            "\n"
          ]
        },
        {
          "output_type": "stream",
          "name": "stdout",
          "text": [
            "Test Accuracy: 87.03%\n",
            "Model saved to /content/drive/MyDrive/simple_swin_epoch20.pth\n"
          ]
        },
        {
          "output_type": "stream",
          "name": "stderr",
          "text": [
            "Epoch 21: 100%|██████████| 938/938 [02:47<00:00,  5.61it/s]"
          ]
        },
        {
          "output_type": "stream",
          "name": "stdout",
          "text": [
            "Train Loss: 0.4949\n"
          ]
        },
        {
          "output_type": "stream",
          "name": "stderr",
          "text": [
            "\n"
          ]
        },
        {
          "output_type": "stream",
          "name": "stdout",
          "text": [
            "Test Accuracy: 87.50%\n",
            "Model saved to /content/drive/MyDrive/simple_swin_epoch21.pth\n"
          ]
        },
        {
          "output_type": "stream",
          "name": "stderr",
          "text": [
            "Epoch 22: 100%|██████████| 938/938 [02:47<00:00,  5.61it/s]"
          ]
        },
        {
          "output_type": "stream",
          "name": "stdout",
          "text": [
            "Train Loss: 0.4791\n"
          ]
        },
        {
          "output_type": "stream",
          "name": "stderr",
          "text": [
            "\n"
          ]
        },
        {
          "output_type": "stream",
          "name": "stdout",
          "text": [
            "Test Accuracy: 88.06%\n",
            "Model saved to /content/drive/MyDrive/simple_swin_epoch22.pth\n"
          ]
        },
        {
          "output_type": "stream",
          "name": "stderr",
          "text": [
            "Epoch 23: 100%|██████████| 938/938 [02:47<00:00,  5.59it/s]"
          ]
        },
        {
          "output_type": "stream",
          "name": "stdout",
          "text": [
            "Train Loss: 0.4644\n"
          ]
        },
        {
          "output_type": "stream",
          "name": "stderr",
          "text": [
            "\n"
          ]
        },
        {
          "output_type": "stream",
          "name": "stdout",
          "text": [
            "Test Accuracy: 88.56%\n",
            "Model saved to /content/drive/MyDrive/simple_swin_epoch23.pth\n"
          ]
        },
        {
          "output_type": "stream",
          "name": "stderr",
          "text": [
            "Epoch 24: 100%|██████████| 938/938 [02:47<00:00,  5.59it/s]"
          ]
        },
        {
          "output_type": "stream",
          "name": "stdout",
          "text": [
            "Train Loss: 0.4466\n"
          ]
        },
        {
          "output_type": "stream",
          "name": "stderr",
          "text": [
            "\n"
          ]
        },
        {
          "output_type": "stream",
          "name": "stdout",
          "text": [
            "Test Accuracy: 89.18%\n",
            "Model saved to /content/drive/MyDrive/simple_swin_epoch24.pth\n"
          ]
        },
        {
          "output_type": "stream",
          "name": "stderr",
          "text": [
            "Epoch 25: 100%|██████████| 938/938 [02:48<00:00,  5.57it/s]"
          ]
        },
        {
          "output_type": "stream",
          "name": "stdout",
          "text": [
            "Train Loss: 0.4345\n"
          ]
        },
        {
          "output_type": "stream",
          "name": "stderr",
          "text": [
            "\n"
          ]
        },
        {
          "output_type": "stream",
          "name": "stdout",
          "text": [
            "Test Accuracy: 89.40%\n",
            "Model saved to /content/drive/MyDrive/simple_swin_epoch25.pth\n"
          ]
        },
        {
          "output_type": "stream",
          "name": "stderr",
          "text": [
            "Epoch 26: 100%|██████████| 938/938 [02:48<00:00,  5.56it/s]"
          ]
        },
        {
          "output_type": "stream",
          "name": "stdout",
          "text": [
            "Train Loss: 0.4167\n"
          ]
        },
        {
          "output_type": "stream",
          "name": "stderr",
          "text": [
            "\n"
          ]
        },
        {
          "output_type": "stream",
          "name": "stdout",
          "text": [
            "Test Accuracy: 90.23%\n",
            "Model saved to /content/drive/MyDrive/simple_swin_epoch26.pth\n"
          ]
        },
        {
          "output_type": "stream",
          "name": "stderr",
          "text": [
            "Epoch 27: 100%|██████████| 938/938 [02:47<00:00,  5.59it/s]"
          ]
        },
        {
          "output_type": "stream",
          "name": "stdout",
          "text": [
            "Train Loss: 0.4090\n"
          ]
        },
        {
          "output_type": "stream",
          "name": "stderr",
          "text": [
            "\n"
          ]
        },
        {
          "output_type": "stream",
          "name": "stdout",
          "text": [
            "Test Accuracy: 90.07%\n",
            "Model saved to /content/drive/MyDrive/simple_swin_epoch27.pth\n"
          ]
        },
        {
          "output_type": "stream",
          "name": "stderr",
          "text": [
            "Epoch 28: 100%|██████████| 938/938 [02:47<00:00,  5.59it/s]"
          ]
        },
        {
          "output_type": "stream",
          "name": "stdout",
          "text": [
            "Train Loss: 0.3948\n"
          ]
        },
        {
          "output_type": "stream",
          "name": "stderr",
          "text": [
            "\n"
          ]
        },
        {
          "output_type": "stream",
          "name": "stdout",
          "text": [
            "Test Accuracy: 90.59%\n",
            "Model saved to /content/drive/MyDrive/simple_swin_epoch28.pth\n"
          ]
        },
        {
          "output_type": "stream",
          "name": "stderr",
          "text": [
            "Epoch 29: 100%|██████████| 938/938 [02:47<00:00,  5.59it/s]"
          ]
        },
        {
          "output_type": "stream",
          "name": "stdout",
          "text": [
            "Train Loss: 0.3827\n"
          ]
        },
        {
          "output_type": "stream",
          "name": "stderr",
          "text": [
            "\n"
          ]
        },
        {
          "output_type": "stream",
          "name": "stdout",
          "text": [
            "Test Accuracy: 91.12%\n",
            "Model saved to /content/drive/MyDrive/simple_swin_epoch29.pth\n"
          ]
        },
        {
          "output_type": "stream",
          "name": "stderr",
          "text": [
            "Epoch 30: 100%|██████████| 938/938 [02:48<00:00,  5.58it/s]"
          ]
        },
        {
          "output_type": "stream",
          "name": "stdout",
          "text": [
            "Train Loss: 0.3731\n"
          ]
        },
        {
          "output_type": "stream",
          "name": "stderr",
          "text": [
            "\n"
          ]
        },
        {
          "output_type": "stream",
          "name": "stdout",
          "text": [
            "Test Accuracy: 91.14%\n",
            "Model saved to /content/drive/MyDrive/simple_swin_epoch30.pth\n"
          ]
        },
        {
          "output_type": "stream",
          "name": "stderr",
          "text": [
            "Epoch 31:   4%|▎         | 35/938 [00:06<02:41,  5.58it/s]\n"
          ]
        },
        {
          "output_type": "error",
          "ename": "KeyboardInterrupt",
          "evalue": "",
          "traceback": [
            "\u001b[0;31m---------------------------------------------------------------------------\u001b[0m",
            "\u001b[0;31mKeyboardInterrupt\u001b[0m                         Traceback (most recent call last)",
            "\u001b[0;32m<ipython-input-22-ca27d412c1e3>\u001b[0m in \u001b[0;36m<cell line: 0>\u001b[0;34m()\u001b[0m\n\u001b[1;32m      2\u001b[0m \u001b[0;32mfor\u001b[0m \u001b[0mepoch\u001b[0m \u001b[0;32min\u001b[0m \u001b[0mrange\u001b[0m\u001b[0;34m(\u001b[0m\u001b[0;36m1\u001b[0m\u001b[0;34m,\u001b[0m \u001b[0mtotal_epochs\u001b[0m \u001b[0;34m+\u001b[0m \u001b[0;36m1\u001b[0m\u001b[0;34m)\u001b[0m\u001b[0;34m:\u001b[0m\u001b[0;34m\u001b[0m\u001b[0;34m\u001b[0m\u001b[0m\n\u001b[1;32m      3\u001b[0m     \u001b[0;31m# Train for one epoch\u001b[0m\u001b[0;34m\u001b[0m\u001b[0;34m\u001b[0m\u001b[0m\n\u001b[0;32m----> 4\u001b[0;31m     \u001b[0mtrain\u001b[0m\u001b[0;34m(\u001b[0m\u001b[0mmodel\u001b[0m\u001b[0;34m,\u001b[0m \u001b[0mtrain_loader\u001b[0m\u001b[0;34m,\u001b[0m \u001b[0moptimizer\u001b[0m\u001b[0;34m,\u001b[0m \u001b[0mcriterion\u001b[0m\u001b[0;34m,\u001b[0m \u001b[0mepoch\u001b[0m\u001b[0;34m,\u001b[0m \u001b[0mwarmup_scheduler\u001b[0m\u001b[0;34m,\u001b[0m \u001b[0mcosine_scheduler\u001b[0m\u001b[0;34m,\u001b[0m \u001b[0mwarmup_epochs\u001b[0m\u001b[0;34m)\u001b[0m\u001b[0;34m\u001b[0m\u001b[0;34m\u001b[0m\u001b[0m\n\u001b[0m\u001b[1;32m      5\u001b[0m \u001b[0;34m\u001b[0m\u001b[0m\n\u001b[1;32m      6\u001b[0m     \u001b[0;31m# Evaluate the model on the test set\u001b[0m\u001b[0;34m\u001b[0m\u001b[0;34m\u001b[0m\u001b[0m\n",
            "\u001b[0;32m<ipython-input-20-74852183d997>\u001b[0m in \u001b[0;36mtrain\u001b[0;34m(model, loader, optimizer, criterion, epoch, warmup_scheduler, cosine_scheduler, warmup_epochs)\u001b[0m\n\u001b[1;32m      8\u001b[0m         \u001b[0mimgs\u001b[0m\u001b[0;34m,\u001b[0m \u001b[0mlabels\u001b[0m \u001b[0;34m=\u001b[0m \u001b[0mimgs\u001b[0m\u001b[0;34m.\u001b[0m\u001b[0mto\u001b[0m\u001b[0;34m(\u001b[0m\u001b[0mdevice\u001b[0m\u001b[0;34m)\u001b[0m\u001b[0;34m,\u001b[0m \u001b[0mlabels\u001b[0m\u001b[0;34m.\u001b[0m\u001b[0mto\u001b[0m\u001b[0;34m(\u001b[0m\u001b[0mdevice\u001b[0m\u001b[0;34m)\u001b[0m\u001b[0;34m\u001b[0m\u001b[0;34m\u001b[0m\u001b[0m\n\u001b[1;32m      9\u001b[0m \u001b[0;34m\u001b[0m\u001b[0m\n\u001b[0;32m---> 10\u001b[0;31m         \u001b[0moutputs\u001b[0m \u001b[0;34m=\u001b[0m \u001b[0mmodel\u001b[0m\u001b[0;34m(\u001b[0m\u001b[0mimgs\u001b[0m\u001b[0;34m)\u001b[0m     \u001b[0;31m# [B, 10]\u001b[0m\u001b[0;34m\u001b[0m\u001b[0;34m\u001b[0m\u001b[0m\n\u001b[0m\u001b[1;32m     11\u001b[0m         \u001b[0mloss\u001b[0m \u001b[0;34m=\u001b[0m \u001b[0mcriterion\u001b[0m\u001b[0;34m(\u001b[0m\u001b[0moutputs\u001b[0m\u001b[0;34m,\u001b[0m \u001b[0mlabels\u001b[0m\u001b[0;34m)\u001b[0m\u001b[0;34m\u001b[0m\u001b[0;34m\u001b[0m\u001b[0m\n\u001b[1;32m     12\u001b[0m \u001b[0;34m\u001b[0m\u001b[0m\n",
            "\u001b[0;32m/usr/local/lib/python3.11/dist-packages/torch/nn/modules/module.py\u001b[0m in \u001b[0;36m_wrapped_call_impl\u001b[0;34m(self, *args, **kwargs)\u001b[0m\n\u001b[1;32m   1737\u001b[0m             \u001b[0;32mreturn\u001b[0m \u001b[0mself\u001b[0m\u001b[0;34m.\u001b[0m\u001b[0m_compiled_call_impl\u001b[0m\u001b[0;34m(\u001b[0m\u001b[0;34m*\u001b[0m\u001b[0margs\u001b[0m\u001b[0;34m,\u001b[0m \u001b[0;34m**\u001b[0m\u001b[0mkwargs\u001b[0m\u001b[0;34m)\u001b[0m  \u001b[0;31m# type: ignore[misc]\u001b[0m\u001b[0;34m\u001b[0m\u001b[0;34m\u001b[0m\u001b[0m\n\u001b[1;32m   1738\u001b[0m         \u001b[0;32melse\u001b[0m\u001b[0;34m:\u001b[0m\u001b[0;34m\u001b[0m\u001b[0;34m\u001b[0m\u001b[0m\n\u001b[0;32m-> 1739\u001b[0;31m             \u001b[0;32mreturn\u001b[0m \u001b[0mself\u001b[0m\u001b[0;34m.\u001b[0m\u001b[0m_call_impl\u001b[0m\u001b[0;34m(\u001b[0m\u001b[0;34m*\u001b[0m\u001b[0margs\u001b[0m\u001b[0;34m,\u001b[0m \u001b[0;34m**\u001b[0m\u001b[0mkwargs\u001b[0m\u001b[0;34m)\u001b[0m\u001b[0;34m\u001b[0m\u001b[0;34m\u001b[0m\u001b[0m\n\u001b[0m\u001b[1;32m   1740\u001b[0m \u001b[0;34m\u001b[0m\u001b[0m\n\u001b[1;32m   1741\u001b[0m     \u001b[0;31m# torchrec tests the code consistency with the following code\u001b[0m\u001b[0;34m\u001b[0m\u001b[0;34m\u001b[0m\u001b[0m\n",
            "\u001b[0;32m/usr/local/lib/python3.11/dist-packages/torch/nn/modules/module.py\u001b[0m in \u001b[0;36m_call_impl\u001b[0;34m(self, *args, **kwargs)\u001b[0m\n\u001b[1;32m   1748\u001b[0m                 \u001b[0;32mor\u001b[0m \u001b[0m_global_backward_pre_hooks\u001b[0m \u001b[0;32mor\u001b[0m \u001b[0m_global_backward_hooks\u001b[0m\u001b[0;34m\u001b[0m\u001b[0;34m\u001b[0m\u001b[0m\n\u001b[1;32m   1749\u001b[0m                 or _global_forward_hooks or _global_forward_pre_hooks):\n\u001b[0;32m-> 1750\u001b[0;31m             \u001b[0;32mreturn\u001b[0m \u001b[0mforward_call\u001b[0m\u001b[0;34m(\u001b[0m\u001b[0;34m*\u001b[0m\u001b[0margs\u001b[0m\u001b[0;34m,\u001b[0m \u001b[0;34m**\u001b[0m\u001b[0mkwargs\u001b[0m\u001b[0;34m)\u001b[0m\u001b[0;34m\u001b[0m\u001b[0;34m\u001b[0m\u001b[0m\n\u001b[0m\u001b[1;32m   1751\u001b[0m \u001b[0;34m\u001b[0m\u001b[0m\n\u001b[1;32m   1752\u001b[0m         \u001b[0mresult\u001b[0m \u001b[0;34m=\u001b[0m \u001b[0;32mNone\u001b[0m\u001b[0;34m\u001b[0m\u001b[0;34m\u001b[0m\u001b[0m\n",
            "\u001b[0;32m<ipython-input-17-28b319ae5777>\u001b[0m in \u001b[0;36mforward\u001b[0;34m(self, x)\u001b[0m\n\u001b[1;32m     15\u001b[0m     \u001b[0;32mdef\u001b[0m \u001b[0mforward\u001b[0m\u001b[0;34m(\u001b[0m\u001b[0mself\u001b[0m\u001b[0;34m,\u001b[0m \u001b[0mx\u001b[0m\u001b[0;34m)\u001b[0m\u001b[0;34m:\u001b[0m\u001b[0;34m\u001b[0m\u001b[0;34m\u001b[0m\u001b[0m\n\u001b[1;32m     16\u001b[0m         \u001b[0mx\u001b[0m \u001b[0;34m=\u001b[0m \u001b[0mself\u001b[0m\u001b[0;34m.\u001b[0m\u001b[0membedding\u001b[0m\u001b[0;34m(\u001b[0m\u001b[0mx\u001b[0m\u001b[0;34m)\u001b[0m\u001b[0;34m\u001b[0m\u001b[0;34m\u001b[0m\u001b[0m\n\u001b[0;32m---> 17\u001b[0;31m         \u001b[0mx\u001b[0m \u001b[0;34m=\u001b[0m \u001b[0mself\u001b[0m\u001b[0;34m.\u001b[0m\u001b[0mstb1\u001b[0m\u001b[0;34m(\u001b[0m\u001b[0mx\u001b[0m\u001b[0;34m)\u001b[0m\u001b[0;34m\u001b[0m\u001b[0;34m\u001b[0m\u001b[0m\n\u001b[0m\u001b[1;32m     18\u001b[0m         \u001b[0mx\u001b[0m \u001b[0;34m=\u001b[0m \u001b[0mself\u001b[0m\u001b[0;34m.\u001b[0m\u001b[0mstb2\u001b[0m\u001b[0;34m(\u001b[0m\u001b[0mx\u001b[0m\u001b[0;34m)\u001b[0m\u001b[0;34m\u001b[0m\u001b[0;34m\u001b[0m\u001b[0m\n\u001b[1;32m     19\u001b[0m         \u001b[0mx\u001b[0m \u001b[0;34m=\u001b[0m \u001b[0mself\u001b[0m\u001b[0;34m.\u001b[0m\u001b[0mpatch_merging1\u001b[0m\u001b[0;34m(\u001b[0m\u001b[0mx\u001b[0m\u001b[0;34m)\u001b[0m\u001b[0;34m\u001b[0m\u001b[0;34m\u001b[0m\u001b[0m\n",
            "\u001b[0;32m/usr/local/lib/python3.11/dist-packages/torch/nn/modules/module.py\u001b[0m in \u001b[0;36m_wrapped_call_impl\u001b[0;34m(self, *args, **kwargs)\u001b[0m\n\u001b[1;32m   1737\u001b[0m             \u001b[0;32mreturn\u001b[0m \u001b[0mself\u001b[0m\u001b[0;34m.\u001b[0m\u001b[0m_compiled_call_impl\u001b[0m\u001b[0;34m(\u001b[0m\u001b[0;34m*\u001b[0m\u001b[0margs\u001b[0m\u001b[0;34m,\u001b[0m \u001b[0;34m**\u001b[0m\u001b[0mkwargs\u001b[0m\u001b[0;34m)\u001b[0m  \u001b[0;31m# type: ignore[misc]\u001b[0m\u001b[0;34m\u001b[0m\u001b[0;34m\u001b[0m\u001b[0m\n\u001b[1;32m   1738\u001b[0m         \u001b[0;32melse\u001b[0m\u001b[0;34m:\u001b[0m\u001b[0;34m\u001b[0m\u001b[0;34m\u001b[0m\u001b[0m\n\u001b[0;32m-> 1739\u001b[0;31m             \u001b[0;32mreturn\u001b[0m \u001b[0mself\u001b[0m\u001b[0;34m.\u001b[0m\u001b[0m_call_impl\u001b[0m\u001b[0;34m(\u001b[0m\u001b[0;34m*\u001b[0m\u001b[0margs\u001b[0m\u001b[0;34m,\u001b[0m \u001b[0;34m**\u001b[0m\u001b[0mkwargs\u001b[0m\u001b[0;34m)\u001b[0m\u001b[0;34m\u001b[0m\u001b[0;34m\u001b[0m\u001b[0m\n\u001b[0m\u001b[1;32m   1740\u001b[0m \u001b[0;34m\u001b[0m\u001b[0m\n\u001b[1;32m   1741\u001b[0m     \u001b[0;31m# torchrec tests the code consistency with the following code\u001b[0m\u001b[0;34m\u001b[0m\u001b[0;34m\u001b[0m\u001b[0m\n",
            "\u001b[0;32m/usr/local/lib/python3.11/dist-packages/torch/nn/modules/module.py\u001b[0m in \u001b[0;36m_call_impl\u001b[0;34m(self, *args, **kwargs)\u001b[0m\n\u001b[1;32m   1748\u001b[0m                 \u001b[0;32mor\u001b[0m \u001b[0m_global_backward_pre_hooks\u001b[0m \u001b[0;32mor\u001b[0m \u001b[0m_global_backward_hooks\u001b[0m\u001b[0;34m\u001b[0m\u001b[0;34m\u001b[0m\u001b[0m\n\u001b[1;32m   1749\u001b[0m                 or _global_forward_hooks or _global_forward_pre_hooks):\n\u001b[0;32m-> 1750\u001b[0;31m             \u001b[0;32mreturn\u001b[0m \u001b[0mforward_call\u001b[0m\u001b[0;34m(\u001b[0m\u001b[0;34m*\u001b[0m\u001b[0margs\u001b[0m\u001b[0;34m,\u001b[0m \u001b[0;34m**\u001b[0m\u001b[0mkwargs\u001b[0m\u001b[0;34m)\u001b[0m\u001b[0;34m\u001b[0m\u001b[0;34m\u001b[0m\u001b[0m\n\u001b[0m\u001b[1;32m   1751\u001b[0m \u001b[0;34m\u001b[0m\u001b[0m\n\u001b[1;32m   1752\u001b[0m         \u001b[0mresult\u001b[0m \u001b[0;34m=\u001b[0m \u001b[0;32mNone\u001b[0m\u001b[0;34m\u001b[0m\u001b[0;34m\u001b[0m\u001b[0m\n",
            "\u001b[0;32m<ipython-input-14-48e17fe6766d>\u001b[0m in \u001b[0;36mforward\u001b[0;34m(self, x)\u001b[0m\n\u001b[1;32m     31\u001b[0m         \u001b[0mx\u001b[0m \u001b[0;34m=\u001b[0m \u001b[0mx\u001b[0m \u001b[0;34m+\u001b[0m \u001b[0mself\u001b[0m\u001b[0;34m.\u001b[0m\u001b[0mattn1\u001b[0m\u001b[0;34m(\u001b[0m\u001b[0mself\u001b[0m\u001b[0;34m.\u001b[0m\u001b[0mnorm1\u001b[0m\u001b[0;34m(\u001b[0m\u001b[0mx\u001b[0m\u001b[0;34m)\u001b[0m\u001b[0;34m)\u001b[0m\u001b[0;34m\u001b[0m\u001b[0;34m\u001b[0m\u001b[0m\n\u001b[1;32m     32\u001b[0m         \u001b[0mx\u001b[0m \u001b[0;34m=\u001b[0m \u001b[0mx\u001b[0m \u001b[0;34m+\u001b[0m \u001b[0mself\u001b[0m\u001b[0;34m.\u001b[0m\u001b[0mmlp1\u001b[0m\u001b[0;34m(\u001b[0m\u001b[0mself\u001b[0m\u001b[0;34m.\u001b[0m\u001b[0mnorm2\u001b[0m\u001b[0;34m(\u001b[0m\u001b[0mx\u001b[0m\u001b[0;34m)\u001b[0m\u001b[0;34m)\u001b[0m\u001b[0;34m\u001b[0m\u001b[0;34m\u001b[0m\u001b[0m\n\u001b[0;32m---> 33\u001b[0;31m         \u001b[0mx\u001b[0m \u001b[0;34m=\u001b[0m \u001b[0mx\u001b[0m \u001b[0;34m+\u001b[0m \u001b[0mself\u001b[0m\u001b[0;34m.\u001b[0m\u001b[0mattn2\u001b[0m\u001b[0;34m(\u001b[0m\u001b[0mself\u001b[0m\u001b[0;34m.\u001b[0m\u001b[0mnorm3\u001b[0m\u001b[0;34m(\u001b[0m\u001b[0mx\u001b[0m\u001b[0;34m)\u001b[0m\u001b[0;34m)\u001b[0m\u001b[0;34m\u001b[0m\u001b[0;34m\u001b[0m\u001b[0m\n\u001b[0m\u001b[1;32m     34\u001b[0m         \u001b[0mx\u001b[0m \u001b[0;34m=\u001b[0m \u001b[0mx\u001b[0m \u001b[0;34m+\u001b[0m \u001b[0mself\u001b[0m\u001b[0;34m.\u001b[0m\u001b[0mmlp2\u001b[0m\u001b[0;34m(\u001b[0m\u001b[0mself\u001b[0m\u001b[0;34m.\u001b[0m\u001b[0mnorm4\u001b[0m\u001b[0;34m(\u001b[0m\u001b[0mx\u001b[0m\u001b[0;34m)\u001b[0m\u001b[0;34m)\u001b[0m\u001b[0;34m\u001b[0m\u001b[0;34m\u001b[0m\u001b[0m\n\u001b[1;32m     35\u001b[0m         \u001b[0;32mreturn\u001b[0m \u001b[0mx\u001b[0m\u001b[0;34m\u001b[0m\u001b[0;34m\u001b[0m\u001b[0m\n",
            "\u001b[0;32m/usr/local/lib/python3.11/dist-packages/torch/nn/modules/module.py\u001b[0m in \u001b[0;36m_wrapped_call_impl\u001b[0;34m(self, *args, **kwargs)\u001b[0m\n\u001b[1;32m   1737\u001b[0m             \u001b[0;32mreturn\u001b[0m \u001b[0mself\u001b[0m\u001b[0;34m.\u001b[0m\u001b[0m_compiled_call_impl\u001b[0m\u001b[0;34m(\u001b[0m\u001b[0;34m*\u001b[0m\u001b[0margs\u001b[0m\u001b[0;34m,\u001b[0m \u001b[0;34m**\u001b[0m\u001b[0mkwargs\u001b[0m\u001b[0;34m)\u001b[0m  \u001b[0;31m# type: ignore[misc]\u001b[0m\u001b[0;34m\u001b[0m\u001b[0;34m\u001b[0m\u001b[0m\n\u001b[1;32m   1738\u001b[0m         \u001b[0;32melse\u001b[0m\u001b[0;34m:\u001b[0m\u001b[0;34m\u001b[0m\u001b[0;34m\u001b[0m\u001b[0m\n\u001b[0;32m-> 1739\u001b[0;31m             \u001b[0;32mreturn\u001b[0m \u001b[0mself\u001b[0m\u001b[0;34m.\u001b[0m\u001b[0m_call_impl\u001b[0m\u001b[0;34m(\u001b[0m\u001b[0;34m*\u001b[0m\u001b[0margs\u001b[0m\u001b[0;34m,\u001b[0m \u001b[0;34m**\u001b[0m\u001b[0mkwargs\u001b[0m\u001b[0;34m)\u001b[0m\u001b[0;34m\u001b[0m\u001b[0;34m\u001b[0m\u001b[0m\n\u001b[0m\u001b[1;32m   1740\u001b[0m \u001b[0;34m\u001b[0m\u001b[0m\n\u001b[1;32m   1741\u001b[0m     \u001b[0;31m# torchrec tests the code consistency with the following code\u001b[0m\u001b[0;34m\u001b[0m\u001b[0;34m\u001b[0m\u001b[0m\n",
            "\u001b[0;32m/usr/local/lib/python3.11/dist-packages/torch/nn/modules/module.py\u001b[0m in \u001b[0;36m_call_impl\u001b[0;34m(self, *args, **kwargs)\u001b[0m\n\u001b[1;32m   1748\u001b[0m                 \u001b[0;32mor\u001b[0m \u001b[0m_global_backward_pre_hooks\u001b[0m \u001b[0;32mor\u001b[0m \u001b[0m_global_backward_hooks\u001b[0m\u001b[0;34m\u001b[0m\u001b[0;34m\u001b[0m\u001b[0m\n\u001b[1;32m   1749\u001b[0m                 or _global_forward_hooks or _global_forward_pre_hooks):\n\u001b[0;32m-> 1750\u001b[0;31m             \u001b[0;32mreturn\u001b[0m \u001b[0mforward_call\u001b[0m\u001b[0;34m(\u001b[0m\u001b[0;34m*\u001b[0m\u001b[0margs\u001b[0m\u001b[0;34m,\u001b[0m \u001b[0;34m**\u001b[0m\u001b[0mkwargs\u001b[0m\u001b[0;34m)\u001b[0m\u001b[0;34m\u001b[0m\u001b[0;34m\u001b[0m\u001b[0m\n\u001b[0m\u001b[1;32m   1751\u001b[0m \u001b[0;34m\u001b[0m\u001b[0m\n\u001b[1;32m   1752\u001b[0m         \u001b[0mresult\u001b[0m \u001b[0;34m=\u001b[0m \u001b[0;32mNone\u001b[0m\u001b[0;34m\u001b[0m\u001b[0;34m\u001b[0m\u001b[0m\n",
            "\u001b[0;32m<ipython-input-13-34b9cb8b3246>\u001b[0m in \u001b[0;36mforward\u001b[0;34m(self, x)\u001b[0m\n\u001b[1;32m     22\u001b[0m \u001b[0;34m\u001b[0m\u001b[0m\n\u001b[1;32m     23\u001b[0m \u001b[0;34m\u001b[0m\u001b[0m\n\u001b[0;32m---> 24\u001b[0;31m         \u001b[0mattn_mask\u001b[0m \u001b[0;34m=\u001b[0m \u001b[0mmask\u001b[0m\u001b[0;34m(\u001b[0m\u001b[0mB\u001b[0m\u001b[0;34m,\u001b[0m \u001b[0mH\u001b[0m\u001b[0;34m,\u001b[0m \u001b[0mW\u001b[0m\u001b[0;34m,\u001b[0m \u001b[0mss\u001b[0m\u001b[0;34m,\u001b[0m \u001b[0mws\u001b[0m\u001b[0;34m)\u001b[0m\u001b[0;34m\u001b[0m\u001b[0;34m\u001b[0m\u001b[0m\n\u001b[0m\u001b[1;32m     25\u001b[0m         \u001b[0mattn_mask\u001b[0m \u001b[0;34m=\u001b[0m \u001b[0mmask\u001b[0m\u001b[0;34m(\u001b[0m\u001b[0mB\u001b[0m\u001b[0;34m,\u001b[0m \u001b[0mH\u001b[0m\u001b[0;34m,\u001b[0m \u001b[0mW\u001b[0m\u001b[0;34m,\u001b[0m \u001b[0mss\u001b[0m\u001b[0;34m,\u001b[0m \u001b[0mws\u001b[0m\u001b[0;34m)\u001b[0m\u001b[0;34m.\u001b[0m\u001b[0mto\u001b[0m\u001b[0;34m(\u001b[0m\u001b[0mx\u001b[0m\u001b[0;34m.\u001b[0m\u001b[0mdevice\u001b[0m\u001b[0;34m)\u001b[0m\u001b[0;34m\u001b[0m\u001b[0;34m\u001b[0m\u001b[0m\n\u001b[1;32m     26\u001b[0m \u001b[0;34m\u001b[0m\u001b[0m\n",
            "\u001b[0;32m<ipython-input-12-0d9cc2dbe5e9>\u001b[0m in \u001b[0;36mmask\u001b[0;34m(B, H, W, ss, ws)\u001b[0m\n\u001b[1;32m     12\u001b[0m     \u001b[0mN\u001b[0m\u001b[0;34m,\u001b[0m \u001b[0mL\u001b[0m \u001b[0;34m=\u001b[0m \u001b[0mshifted_mask\u001b[0m\u001b[0;34m.\u001b[0m\u001b[0mshape\u001b[0m\u001b[0;34m\u001b[0m\u001b[0;34m\u001b[0m\u001b[0m\n\u001b[1;32m     13\u001b[0m     \u001b[0meq\u001b[0m \u001b[0;34m=\u001b[0m \u001b[0mshifted_mask\u001b[0m\u001b[0;34m.\u001b[0m\u001b[0munsqueeze\u001b[0m\u001b[0;34m(\u001b[0m\u001b[0;36m2\u001b[0m\u001b[0;34m)\u001b[0m \u001b[0;34m==\u001b[0m \u001b[0mshifted_mask\u001b[0m\u001b[0;34m.\u001b[0m\u001b[0munsqueeze\u001b[0m\u001b[0;34m(\u001b[0m\u001b[0;36m1\u001b[0m\u001b[0;34m)\u001b[0m\u001b[0;34m\u001b[0m\u001b[0;34m\u001b[0m\u001b[0m\n\u001b[0;32m---> 14\u001b[0;31m     \u001b[0mattn_mask\u001b[0m \u001b[0;34m=\u001b[0m \u001b[0mtorch\u001b[0m\u001b[0;34m.\u001b[0m\u001b[0mwhere\u001b[0m\u001b[0;34m(\u001b[0m\u001b[0meq\u001b[0m\u001b[0;34m,\u001b[0m \u001b[0mtorch\u001b[0m\u001b[0;34m.\u001b[0m\u001b[0mtensor\u001b[0m\u001b[0;34m(\u001b[0m\u001b[0;36m0.0\u001b[0m\u001b[0;34m)\u001b[0m\u001b[0;34m,\u001b[0m \u001b[0mtorch\u001b[0m\u001b[0;34m.\u001b[0m\u001b[0mtensor\u001b[0m\u001b[0;34m(\u001b[0m\u001b[0mfloat\u001b[0m\u001b[0;34m(\u001b[0m\u001b[0;34m'-inf'\u001b[0m\u001b[0;34m)\u001b[0m\u001b[0;34m)\u001b[0m\u001b[0;34m)\u001b[0m\u001b[0;34m\u001b[0m\u001b[0;34m\u001b[0m\u001b[0m\n\u001b[0m\u001b[1;32m     15\u001b[0m     \u001b[0;32mreturn\u001b[0m \u001b[0mattn_mask\u001b[0m\u001b[0;34m\u001b[0m\u001b[0;34m\u001b[0m\u001b[0m\n",
            "\u001b[0;31mKeyboardInterrupt\u001b[0m: "
          ]
        }
      ]
    },
    {
      "cell_type": "code",
      "source": [
        "device = torch.device(\"cuda\" if torch.cuda.is_available() else \"cpu\")\n",
        "model = SimpleSwinTransformer().to(device)\n",
        "model.load_state_dict(torch.load(\"/content/drive/MyDrive/simple_swin_epoch10.pth\"))\n",
        "from sklearn.metrics import accuracy_score, precision_score, recall_score, f1_score, confusion_matrix, classification_report\n",
        "all_labels = []\n",
        "all_preds = []\n",
        "import numpy as np\n",
        "import seaborn as sns\n",
        "import matplotlib.pyplot as plt\n",
        "\n",
        "model.eval()\n",
        "with torch.no_grad():\n",
        "    for images, labels in test_loader:\n",
        "        images, labels = images.to(device), labels.to(device)\n",
        "        outputs = model(images)\n",
        "        _, predicted = outputs.max(1)\n",
        "\n",
        "        all_labels.extend(labels.cpu().numpy())\n",
        "        all_preds.extend(predicted.cpu().numpy())\n",
        "\n",
        "all_labels = np.array(all_labels)\n",
        "all_preds = np.array(all_preds)\n",
        "\n",
        "    # Compute metrics\n",
        "accuracy = accuracy_score(all_labels, all_preds)\n",
        "precision = precision_score(all_labels, all_preds, average='weighted')\n",
        "recall = recall_score(all_labels, all_preds, average='weighted')\n",
        "f1 = f1_score(all_labels, all_preds, average='weighted')\n",
        "cm = confusion_matrix(all_labels, all_preds)\n",
        "report = classification_report(all_labels, all_preds, output_dict=True)\n",
        "\n",
        "    # Save metrics to text file\n",
        "with open(f\"/content/drive/MyDrive/metric2.txt\", 'w') as f:\n",
        "    f.write(\"Accuracy: {:.2f}%\\n\".format(accuracy * 100))\n",
        "    f.write(\"Precision: {:.2f}\\n\".format(precision))\n",
        "    f.write(\"Recall: {:.2f}\\n\".format(recall))\n",
        "    f.write(\"F1 Score: {:.2f}\\n\".format(f1))\n",
        "    f.write(\"\\nConfusion Matrix:\\n\")\n",
        "    f.write(np.array2string(cm))\n",
        "    f.write(\"\\n\\nClassification Report:\\n\")\n",
        "    for label, metrics in report.items():\n",
        "        f.write(f\"Label {label}: {metrics}\\n\")\n",
        "\n",
        "    # Save confusion matrix plot\n",
        "    plt.figure(figsize=(10, 8))\n",
        "    classes = [str(i) for i in range(10)]  # for MNIST\n",
        "    sns.heatmap(cm, annot=True, fmt=\"d\", cmap=\"Blues\", xticklabels=classes, yticklabels=classes)\n",
        "    plt.xlabel(\"Predicted\")\n",
        "    plt.ylabel(\"True\")\n",
        "    plt.title(\"Confusion Matrix\")\n",
        "    plt.tight_layout()\n",
        "    plt.savefig(f\"/content/drive/MyDrive/confusion_matrix_metric2.png\")\n",
        "    plt.close()"
      ],
      "metadata": {
        "id": "NrQIE1uYVcMA"
      },
      "execution_count": null,
      "outputs": []
    },
    {
      "cell_type": "code",
      "source": [
        "import os\n",
        "os.listdir(\"/content/drive/MyDrive/cifar\")"
      ],
      "metadata": {
        "colab": {
          "base_uri": "https://localhost:8080/"
        },
        "id": "2ZhESq9nA88N",
        "outputId": "7146e61e-c787-46c3-91bd-9893d0e3dab4"
      },
      "execution_count": null,
      "outputs": [
        {
          "output_type": "execute_result",
          "data": {
            "text/plain": [
              "['simple_swin_epoch28.pth',\n",
              " 'simple_swin_epoch14.pth',\n",
              " 'simple_swin_epoch16.pth',\n",
              " 'simple_swin_epoch2.pth',\n",
              " 'simple_swin_epoch19.pth',\n",
              " 'simple_swin_epoch23.pth',\n",
              " 'simple_swin_epoch25.pth',\n",
              " 'simple_swin_epoch13.pth',\n",
              " 'simple_swin_epoch11.pth',\n",
              " 'simple_swin_epoch17.pth',\n",
              " 'simple_swin_epoch6.pth',\n",
              " 'simple_swin_epoch1.pth',\n",
              " 'simple_swin_epoch18.pth',\n",
              " 'simple_swin_epoch8.pth',\n",
              " 'simple_swin_epoch4.pth',\n",
              " 'simple_swin_epoch22.pth',\n",
              " 'simple_swin_epoch7.pth',\n",
              " 'simple_swin_epoch5.pth',\n",
              " 'simple_swin_epoch20.pth',\n",
              " 'simple_swin_epoch21.pth',\n",
              " 'simple_swin_epoch3.pth',\n",
              " 'simple_swin_epoch15.pth',\n",
              " 'simple_swin_epoch9.pth',\n",
              " 'simple_swin_epoch27.pth',\n",
              " 'simple_swin_epoch26.pth',\n",
              " 'simple_swin_epoch10.pth',\n",
              " 'simple_swin_epoch12.pth',\n",
              " 'simple_swin_epoch24.pth']"
            ]
          },
          "metadata": {},
          "execution_count": 64
        }
      ]
    },
    {
      "cell_type": "code",
      "source": [
        "from tqdm import tqdm\n",
        "import matplotlib.pyplot as plt\n",
        "import torch\n",
        "\n",
        "def epoch_vs_accuracy(device):\n",
        "    accuracy_test = []\n",
        "    accuracy_train = []\n",
        "\n",
        "    for i in tqdm(range(1, 29), desc=\"Evaluating Epochs\"):\n",
        "        # Load model\n",
        "        swin = SimpleSwinTransformer(num_classes=10).to(device)\n",
        "        checkpoint_path = f'/content/drive/MyDrive/cifar/simple_swin_epoch{i}.pth'\n",
        "        swin.load_state_dict(torch.load(checkpoint_path, map_location=device))\n",
        "        swin.eval()\n",
        "\n",
        "        # --- Test Accuracy ---\n",
        "        correct_test = 0\n",
        "        total_test = 0\n",
        "        with torch.no_grad():\n",
        "            for images, labels in test_loader:\n",
        "                images, labels = images.to(device), labels.to(device)\n",
        "                outputs = swin(images)\n",
        "                _, predicted = outputs.max(1)\n",
        "                correct_test += predicted.eq(labels).sum().item()\n",
        "                total_test += labels.size(0)\n",
        "        acc_test = 100 * correct_test / total_test\n",
        "        accuracy_test.append(acc_test)\n",
        "\n",
        "        # --- Train Accuracy ---\n",
        "        correct_train = 0\n",
        "        total_train = 0\n",
        "        with torch.no_grad():\n",
        "            for images, labels in train_loader:\n",
        "                images, labels = images.to(device), labels.to(device)\n",
        "                outputs = swin(images)\n",
        "                _, predicted = outputs.max(1)\n",
        "                correct_train += predicted.eq(labels).sum().item()\n",
        "                total_train += labels.size(0)\n",
        "        acc_train = 100 * correct_train / total_train\n",
        "        accuracy_train.append(acc_train)\n",
        "\n",
        "        # Print progress\n",
        "        print(f\"Epoch {i}: Train Acc = {acc_train:.2f}%, Test Acc = {acc_test:.2f}%\")\n",
        "\n",
        "    # --- Plot ---\n",
        "    plt.figure(figsize=(10, 5))\n",
        "    plt.plot(range(1, 31), accuracy_train, label='Train Accuracy')\n",
        "    plt.plot(range(1, 31), accuracy_test, label='Test Accuracy')\n",
        "    plt.xlabel(\"Epoch\")\n",
        "    plt.ylabel(\"Accuracy (%)\")\n",
        "    plt.title(\"Epoch vs Accuracy\")\n",
        "    plt.legend()\n",
        "    plt.grid(True)\n",
        "    plt.tight_layout()\n",
        "\n",
        "    # Save to Google Drive\n",
        "    plt.savefig(\"/content/drive/MyDrive/epoch_vs_accuracy.png\")\n",
        "    plt.close()\n",
        "device = torch.device(\"cuda\" if torch.cuda.is_available() else \"cpu\")\n",
        "epoch_vs_accuracy(device)"
      ],
      "metadata": {
        "colab": {
          "base_uri": "https://localhost:8080/",
          "height": 327
        },
        "id": "Tw1JnHOjYqNP",
        "outputId": "d4debb1e-70dc-460f-9254-b623a3c53faf"
      },
      "execution_count": null,
      "outputs": [
        {
          "output_type": "stream",
          "name": "stderr",
          "text": [
            "Evaluating Epochs:   0%|          | 0/28 [00:00<?, ?it/s]\n"
          ]
        },
        {
          "output_type": "error",
          "ename": "NameError",
          "evalue": "name 'SimpleSwinTransformer' is not defined",
          "traceback": [
            "\u001b[0;31m---------------------------------------------------------------------------\u001b[0m",
            "\u001b[0;31mNameError\u001b[0m                                 Traceback (most recent call last)",
            "\u001b[0;32m<ipython-input-1-cc93539ee4ff>\u001b[0m in \u001b[0;36m<cell line: 0>\u001b[0;34m()\u001b[0m\n\u001b[1;32m     58\u001b[0m     \u001b[0mplt\u001b[0m\u001b[0;34m.\u001b[0m\u001b[0mclose\u001b[0m\u001b[0;34m(\u001b[0m\u001b[0;34m)\u001b[0m\u001b[0;34m\u001b[0m\u001b[0;34m\u001b[0m\u001b[0m\n\u001b[1;32m     59\u001b[0m \u001b[0mdevice\u001b[0m \u001b[0;34m=\u001b[0m \u001b[0mtorch\u001b[0m\u001b[0;34m.\u001b[0m\u001b[0mdevice\u001b[0m\u001b[0;34m(\u001b[0m\u001b[0;34m\"cuda\"\u001b[0m \u001b[0;32mif\u001b[0m \u001b[0mtorch\u001b[0m\u001b[0;34m.\u001b[0m\u001b[0mcuda\u001b[0m\u001b[0;34m.\u001b[0m\u001b[0mis_available\u001b[0m\u001b[0;34m(\u001b[0m\u001b[0;34m)\u001b[0m \u001b[0;32melse\u001b[0m \u001b[0;34m\"cpu\"\u001b[0m\u001b[0;34m)\u001b[0m\u001b[0;34m\u001b[0m\u001b[0;34m\u001b[0m\u001b[0m\n\u001b[0;32m---> 60\u001b[0;31m \u001b[0mepoch_vs_accuracy\u001b[0m\u001b[0;34m(\u001b[0m\u001b[0mdevice\u001b[0m\u001b[0;34m)\u001b[0m\u001b[0;34m\u001b[0m\u001b[0;34m\u001b[0m\u001b[0m\n\u001b[0m",
            "\u001b[0;32m<ipython-input-1-cc93539ee4ff>\u001b[0m in \u001b[0;36mepoch_vs_accuracy\u001b[0;34m(device)\u001b[0m\n\u001b[1;32m      9\u001b[0m     \u001b[0;32mfor\u001b[0m \u001b[0mi\u001b[0m \u001b[0;32min\u001b[0m \u001b[0mtqdm\u001b[0m\u001b[0;34m(\u001b[0m\u001b[0mrange\u001b[0m\u001b[0;34m(\u001b[0m\u001b[0;36m1\u001b[0m\u001b[0;34m,\u001b[0m \u001b[0;36m29\u001b[0m\u001b[0;34m)\u001b[0m\u001b[0;34m,\u001b[0m \u001b[0mdesc\u001b[0m\u001b[0;34m=\u001b[0m\u001b[0;34m\"Evaluating Epochs\"\u001b[0m\u001b[0;34m)\u001b[0m\u001b[0;34m:\u001b[0m\u001b[0;34m\u001b[0m\u001b[0;34m\u001b[0m\u001b[0m\n\u001b[1;32m     10\u001b[0m         \u001b[0;31m# Load model\u001b[0m\u001b[0;34m\u001b[0m\u001b[0;34m\u001b[0m\u001b[0m\n\u001b[0;32m---> 11\u001b[0;31m         \u001b[0mswin\u001b[0m \u001b[0;34m=\u001b[0m \u001b[0mSimpleSwinTransformer\u001b[0m\u001b[0;34m(\u001b[0m\u001b[0mnum_classes\u001b[0m\u001b[0;34m=\u001b[0m\u001b[0;36m10\u001b[0m\u001b[0;34m)\u001b[0m\u001b[0;34m.\u001b[0m\u001b[0mto\u001b[0m\u001b[0;34m(\u001b[0m\u001b[0mdevice\u001b[0m\u001b[0;34m)\u001b[0m\u001b[0;34m\u001b[0m\u001b[0;34m\u001b[0m\u001b[0m\n\u001b[0m\u001b[1;32m     12\u001b[0m         \u001b[0mcheckpoint_path\u001b[0m \u001b[0;34m=\u001b[0m \u001b[0;34mf'/content/drive/MyDrive/cifar/simple_swin_epoch{i}.pth'\u001b[0m\u001b[0;34m\u001b[0m\u001b[0;34m\u001b[0m\u001b[0m\n\u001b[1;32m     13\u001b[0m         \u001b[0mswin\u001b[0m\u001b[0;34m.\u001b[0m\u001b[0mload_state_dict\u001b[0m\u001b[0;34m(\u001b[0m\u001b[0mtorch\u001b[0m\u001b[0;34m.\u001b[0m\u001b[0mload\u001b[0m\u001b[0;34m(\u001b[0m\u001b[0mcheckpoint_path\u001b[0m\u001b[0;34m,\u001b[0m \u001b[0mmap_location\u001b[0m\u001b[0;34m=\u001b[0m\u001b[0mdevice\u001b[0m\u001b[0;34m)\u001b[0m\u001b[0;34m)\u001b[0m\u001b[0;34m\u001b[0m\u001b[0;34m\u001b[0m\u001b[0m\n",
            "\u001b[0;31mNameError\u001b[0m: name 'SimpleSwinTransformer' is not defined"
          ]
        }
      ]
    }
  ]
}